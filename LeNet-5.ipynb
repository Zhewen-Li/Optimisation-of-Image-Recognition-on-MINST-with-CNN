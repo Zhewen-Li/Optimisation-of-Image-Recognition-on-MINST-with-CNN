{
 "cells": [
  {
   "cell_type": "code",
   "execution_count": 1,
   "metadata": {},
   "outputs": [],
   "source": [
    "import torch\n",
    "import torch.nn as nn\n",
    "import torch.nn.functional as F\n",
    "from torch import optim\n",
    "from torchvision import datasets, transforms\n",
    "from torch.utils.data import DataLoader"
   ]
  },
  {
   "cell_type": "code",
   "execution_count": 2,
   "metadata": {},
   "outputs": [],
   "source": [
    "transforms = transforms.Compose([transforms.Resize((32, 32)), transforms.ToTensor()])\n",
    "\n",
    "# download and create datasets\n",
    "train_dataset = datasets.MNIST(root='mnist_data', train=True, transform=transforms, download=True)\n",
    "test_dataset = datasets.MNIST(root='mnist_data', train=False, transform=transforms)\n",
    "\n",
    "# define the data loaders\n",
    "train_loader = DataLoader(dataset=train_dataset, batch_size=32, shuffle=True)\n",
    "test_loader = DataLoader(dataset=test_dataset, batch_size=32, shuffle=False)"
   ]
  },
  {
   "cell_type": "code",
   "execution_count": 3,
   "metadata": {},
   "outputs": [],
   "source": [
    "class LeNet5(nn.Module):\n",
    "\n",
    "    def __init__(self, n_classes):\n",
    "        super(LeNet5, self).__init__()\n",
    "        \n",
    "        self.conv = nn.Sequential(            \n",
    "            nn.Conv2d(in_channels=1, out_channels=6, kernel_size=5, stride=1),\n",
    "            nn.Tanh(),\n",
    "            nn.AvgPool2d(kernel_size=2),\n",
    "            nn.Conv2d(in_channels=6, out_channels=16, kernel_size=5, stride=1),\n",
    "            nn.Tanh(),\n",
    "            nn.AvgPool2d(kernel_size=2),\n",
    "            nn.Conv2d(in_channels=16, out_channels=120, kernel_size=5, stride=1),\n",
    "            nn.Tanh()\n",
    "        )\n",
    "\n",
    "        self.out = nn.Sequential(\n",
    "            nn.Linear(in_features=120, out_features=84),\n",
    "            nn.Tanh(),\n",
    "            nn.Linear(in_features=84, out_features=n_classes),\n",
    "        )\n",
    "\n",
    "\n",
    "    def forward(self, x):\n",
    "        x = self.conv(x)\n",
    "        x = torch.flatten(x, 1)\n",
    "        y = self.out(x)\n",
    "        z = F.softmax(y, dim=1)\n",
    "        return y, z"
   ]
  },
  {
   "cell_type": "code",
   "execution_count": 4,
   "metadata": {},
   "outputs": [],
   "source": [
    "def train(train_loader, model, criterion, optimizer):\n",
    "    model.train()\n",
    "    total_loss = 0\n",
    "    \n",
    "    for X, y_true in train_loader:\n",
    "        optimizer.zero_grad()\n",
    "        y, i = model(X) \n",
    "        loss = criterion(y, y_true) \n",
    "        total_loss += loss.item() * X.size(0)\n",
    "        loss.backward()\n",
    "        optimizer.step()\n",
    "        \n",
    "    epoch_loss = total_loss / len(train_loader.dataset)\n",
    "    return model, optimizer, epoch_loss\n",
    "\n",
    "def test(test_loader, model, criterion):\n",
    "    model.eval()\n",
    "    total_loss = 0\n",
    "    \n",
    "    for X, y_true in test_loader:\n",
    "        y, i = model(X) \n",
    "        loss = criterion(y, y_true) \n",
    "        total_loss += loss.item() * X.size(0)\n",
    "\n",
    "    epoch_loss = total_loss / len(test_loader.dataset)\n",
    "        \n",
    "    return model, epoch_loss\n",
    "\n",
    "\n",
    "def accuracy(model, data_loader):\n",
    "    y_correct = 0 \n",
    "    n = 0\n",
    "    with torch.no_grad():\n",
    "        model.eval()\n",
    "        for X, y_true in data_loader:\n",
    "            i, y = model(X)\n",
    "            i, predicted_labels = torch.max(y, 1)\n",
    "            y_correct += (predicted_labels == y_true).sum()\n",
    "            n += y_true.size(0)\n",
    "\n",
    "    return y_correct.float() / n"
   ]
  },
  {
   "cell_type": "code",
   "execution_count": 5,
   "metadata": {},
   "outputs": [],
   "source": [
    "def training(model, criterion, optimizer, train_loader, test_loader, epochs, print_every=1):\n",
    "    train_losses = []\n",
    "    test_losses = []\n",
    " \n",
    "    # Train model\n",
    "    for epoch in range(0, epochs):\n",
    "        model, optimizer, train_loss = train(train_loader, model, criterion, optimizer)\n",
    "        train_losses.append(train_loss)\n",
    "\n",
    "        with torch.no_grad():\n",
    "            model, test_loss = test(test_loader, model, criterion)\n",
    "            test_losses.append(test_loss)\n",
    "\n",
    "        if epoch % print_every == (print_every - 1):\n",
    "            train_acc = accuracy(model, train_loader)\n",
    "            test_acc = accuracy(model, test_loader)\n",
    "            print(f'Epoch: {epoch}\\t'\n",
    "                  f'Train loss: {train_loss:.4f}\\t'\n",
    "                  f'Train accuracy: {100 * train_acc:.2f}\\t'\n",
    "                  f'Test accuracy: {100 * test_acc:.2f}')\n",
    "\n",
    "    return model, optimizer, (train_losses, test_losses)"
   ]
  },
  {
   "cell_type": "code",
   "execution_count": 6,
   "metadata": {},
   "outputs": [
    {
     "name": "stdout",
     "output_type": "stream",
     "text": [
      "Epoch: 0\tTrain loss: 0.2786\tTrain accuracy: 93.27\tTest accuracy: 93.10\n",
      "Epoch: 1\tTrain loss: 0.2160\tTrain accuracy: 94.77\tTest accuracy: 94.87\n",
      "Epoch: 2\tTrain loss: 0.2084\tTrain accuracy: 95.21\tTest accuracy: 95.04\n",
      "Epoch: 3\tTrain loss: 0.2019\tTrain accuracy: 94.46\tTest accuracy: 94.58\n",
      "Epoch: 4\tTrain loss: 0.1933\tTrain accuracy: 94.75\tTest accuracy: 95.00\n",
      "Epoch: 5\tTrain loss: 0.1942\tTrain accuracy: 93.47\tTest accuracy: 93.64\n",
      "Epoch: 6\tTrain loss: 0.1972\tTrain accuracy: 94.25\tTest accuracy: 94.02\n",
      "Epoch: 7\tTrain loss: 0.1943\tTrain accuracy: 94.43\tTest accuracy: 94.45\n",
      "Epoch: 8\tTrain loss: 0.1937\tTrain accuracy: 94.21\tTest accuracy: 94.08\n",
      "Epoch: 9\tTrain loss: 0.1930\tTrain accuracy: 94.14\tTest accuracy: 94.13\n",
      "Epoch: 10\tTrain loss: 0.2061\tTrain accuracy: 93.61\tTest accuracy: 93.69\n",
      "Epoch: 11\tTrain loss: 0.1887\tTrain accuracy: 95.37\tTest accuracy: 95.19\n",
      "Epoch: 12\tTrain loss: 0.1860\tTrain accuracy: 94.52\tTest accuracy: 94.14\n",
      "Epoch: 13\tTrain loss: 0.1915\tTrain accuracy: 94.59\tTest accuracy: 94.68\n",
      "Epoch: 14\tTrain loss: 0.1835\tTrain accuracy: 94.14\tTest accuracy: 94.18\n"
     ]
    }
   ],
   "source": [
    "# model implementation --- learning rate 0.01\n",
    "model = LeNet5(10)\n",
    "optimizer = torch.optim.Adam(model.parameters(), lr=0.01)\n",
    "criterion = nn.CrossEntropyLoss()\n",
    "\n",
    "model, optimizer, i = training(model, criterion, optimizer, train_loader, test_loader, 15)"
   ]
  },
  {
   "cell_type": "code",
   "execution_count": 7,
   "metadata": {},
   "outputs": [
    {
     "name": "stdout",
     "output_type": "stream",
     "text": [
      "Epoch: 0\tTrain loss: 0.2309\tTrain accuracy: 96.78\tTest accuracy: 97.16\n",
      "Epoch: 1\tTrain loss: 0.0798\tTrain accuracy: 98.04\tTest accuracy: 97.71\n",
      "Epoch: 2\tTrain loss: 0.0577\tTrain accuracy: 98.82\tTest accuracy: 98.16\n",
      "Epoch: 3\tTrain loss: 0.0441\tTrain accuracy: 98.97\tTest accuracy: 98.48\n",
      "Epoch: 4\tTrain loss: 0.0374\tTrain accuracy: 99.03\tTest accuracy: 98.36\n",
      "Epoch: 5\tTrain loss: 0.0305\tTrain accuracy: 99.13\tTest accuracy: 98.32\n",
      "Epoch: 6\tTrain loss: 0.0265\tTrain accuracy: 99.47\tTest accuracy: 98.58\n",
      "Epoch: 7\tTrain loss: 0.0222\tTrain accuracy: 99.40\tTest accuracy: 98.52\n",
      "Epoch: 8\tTrain loss: 0.0183\tTrain accuracy: 99.28\tTest accuracy: 98.45\n",
      "Epoch: 9\tTrain loss: 0.0180\tTrain accuracy: 99.39\tTest accuracy: 98.61\n",
      "Epoch: 10\tTrain loss: 0.0162\tTrain accuracy: 99.64\tTest accuracy: 98.74\n",
      "Epoch: 11\tTrain loss: 0.0149\tTrain accuracy: 99.52\tTest accuracy: 98.65\n",
      "Epoch: 12\tTrain loss: 0.0135\tTrain accuracy: 99.65\tTest accuracy: 98.68\n",
      "Epoch: 13\tTrain loss: 0.0128\tTrain accuracy: 99.77\tTest accuracy: 98.77\n",
      "Epoch: 14\tTrain loss: 0.0130\tTrain accuracy: 99.72\tTest accuracy: 98.77\n"
     ]
    }
   ],
   "source": [
    "# model implementation --- learning rate 0.001\n",
    "model2 = LeNet5(10)\n",
    "optimizer2 = torch.optim.Adam(model2.parameters(), lr=0.001)\n",
    "\n",
    "model2, optimizer2, i = training(model2, criterion, optimizer2, train_loader, test_loader, 15)"
   ]
  }
 ],
 "metadata": {
  "kernelspec": {
   "display_name": "Python 3.7.6 ('ptenv')",
   "language": "python",
   "name": "python3"
  },
  "language_info": {
   "codemirror_mode": {
    "name": "ipython",
    "version": 3
   },
   "file_extension": ".py",
   "mimetype": "text/x-python",
   "name": "python",
   "nbconvert_exporter": "python",
   "pygments_lexer": "ipython3",
   "version": "3.7.6"
  },
  "vscode": {
   "interpreter": {
    "hash": "599d821d43c25c54888bdf4a388bfac6ea4b7f2c633e44bcf773355589b51cbf"
   }
  }
 },
 "nbformat": 4,
 "nbformat_minor": 4
}
